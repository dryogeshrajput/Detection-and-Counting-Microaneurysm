{
  "nbformat": 4,
  "nbformat_minor": 0,
  "metadata": {
    "colab": {
      "provenance": [],
      "authorship_tag": "ABX9TyO8IQ9Qp880LIAb3Y2EWx37",
      "include_colab_link": true
    },
    "kernelspec": {
      "name": "python3",
      "display_name": "Python 3"
    },
    "language_info": {
      "name": "python"
    }
  },
  "cells": [
    {
      "cell_type": "markdown",
      "metadata": {
        "id": "view-in-github",
        "colab_type": "text"
      },
      "source": [
        "<a href=\"https://colab.research.google.com/github/dryogeshrajput/Detection-and-Counting-Microaneurysm/blob/main/MACount.ipynb\" target=\"_parent\"><img src=\"https://colab.research.google.com/assets/colab-badge.svg\" alt=\"Open In Colab\"/></a>"
      ]
    },
    {
      "cell_type": "code",
      "source": [
        "#Import Packages\n",
        "import cv2\n",
        "import numpy as np\n",
        "\n",
        "#Read Fundus Image\n",
        "image = cv2.imread(\"22_Training.jpg\")\n",
        "def adjust_gamma(image, gamma=1.0):\n",
        "  \n",
        "   table = np.array([((i / 255.0) ** gamma) * 255\n",
        "      for i in np.arange(0, 256)]).astype(\"uint8\")\n",
        "\n",
        "   return cv2.LUT(image, table)\n",
        "\n",
        "#Split Image and Gamma Correction\n",
        "def extract_ma(image):\n",
        "    r,g,b=cv2.split(image)\n",
        "    comp=255-g\n",
        "    clahe = cv2.createCLAHE(clipLimit=5.0, tileGridSize=(8,8))\n",
        "    histe=clahe.apply(comp)\n",
        "    adjustImage = adjust_gamma(histe,gamma=3)\n",
        "    comp = 255-adjustImage\n",
        "    J =  adjust_gamma(comp,gamma=4)\n",
        "    J = 255-J\n",
        "    J = adjust_gamma(J,gamma=4)\n",
        "    \n",
        "    K=np.ones((11,11),np.float32)\n",
        "    L = cv2.filter2D(J,-1,K)\n",
        "\n",
        "#Threshold and Morphological Operations\n",
        "    ret3,thresh2 = cv2.threshold(L,125,255,cv2.THRESH_BINARY|cv2.THRESH_OTSU)\n",
        "    kernel2=np.ones((9,9),np.uint8)\n",
        "    tophat = cv2.morphologyEx(thresh2, cv2.MORPH_TOPHAT, kernel2)\n",
        "    kernel3=np.ones((7,7),np.uint8)\n",
        "    opening = cv2.morphologyEx(tophat, cv2.MORPH_OPEN, kernel3)\n",
        "    return opening\n",
        "\n",
        "#Save the MN image\n",
        "if __name__ == \"__main__\":\n",
        "    fundus = cv2.imread(\"22_Training.jpg\")\n",
        "    Microaneurysms = extract_ma(fundus)\n",
        "    \n",
        "    cv2.imwrite(\"22_MA.png\",Microaneurysms)\n",
        "\n",
        "    # Count Microaneurysms\n",
        "    num_MA, label = cv2.connectedComponents(Microaneurysms)\n",
        "    num_MA_dots = num_MA - 1\n",
        "\n",
        "    # Print the Number of Microaneurysms\n",
        "    print('Number of Microaneurysms :', num_MA_dots)"
      ],
      "metadata": {
        "colab": {
          "base_uri": "https://localhost:8080/"
        },
        "id": "Z4f4NB_PVKQx",
        "outputId": "53af73a8-146b-4a46-dd2b-cb40cf79ac89"
      },
      "execution_count": 63,
      "outputs": [
        {
          "output_type": "stream",
          "name": "stdout",
          "text": [
            "Number of Microaneurysms : 54\n"
          ]
        }
      ]
    }
  ]
}